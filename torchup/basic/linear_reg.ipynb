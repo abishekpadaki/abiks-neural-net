{
 "cells": [
  {
   "cell_type": "markdown",
   "id": "c6747fde",
   "metadata": {},
   "source": [
    "# Implementing simple linear regression"
   ]
  },
  {
   "cell_type": "markdown",
   "id": "baf80bd4",
   "metadata": {},
   "source": [
    "you need two main pieces - a layer that holds your weights and bias, and a forward method that does the math."
   ]
  },
  {
   "cell_type": "code",
   "execution_count": 4,
   "id": "dc898080",
   "metadata": {},
   "outputs": [],
   "source": [
    "import torch\n",
    "import torch.nn as nn\n",
    "import matplotlib.pyplot as plt"
   ]
  },
  {
   "cell_type": "code",
   "execution_count": 5,
   "id": "3fd4d6f6",
   "metadata": {},
   "outputs": [],
   "source": [
    "class SimpleLinearReg(nn.Module):\n",
    "    \n",
    "    def __init__(self, input_size=1, output_size=1):\n",
    "        super().__init__()\n",
    "\n",
    "        self.linear = nn.Linear(input_size, output_size)\n",
    "    \n",
    "    def forward(self,x):\n",
    "        return self.linear(x)"
   ]
  },
  {
   "cell_type": "code",
   "execution_count": 6,
   "id": "e389d0e7",
   "metadata": {},
   "outputs": [
    {
     "data": {
      "text/plain": [
       "<torch._C.Generator at 0x10e9ea870>"
      ]
     },
     "execution_count": 6,
     "metadata": {},
     "output_type": "execute_result"
    }
   ],
   "source": [
    "torch.manual_seed(22)"
   ]
  },
  {
   "cell_type": "markdown",
   "id": "dc353e21",
   "metadata": {},
   "source": [
    "create some fake dummy data x and y"
   ]
  },
  {
   "cell_type": "code",
   "execution_count": 7,
   "id": "a7d30597",
   "metadata": {},
   "outputs": [],
   "source": [
    "x = torch.randn(100,1)"
   ]
  },
  {
   "cell_type": "code",
   "execution_count": 8,
   "id": "b64b8727",
   "metadata": {},
   "outputs": [],
   "source": [
    "y = 2 * x + 1 + 0.1 * torch.randn(100,1)"
   ]
  },
  {
   "cell_type": "code",
   "execution_count": 30,
   "id": "959019af",
   "metadata": {},
   "outputs": [],
   "source": [
    "model = SimpleLinearReg()"
   ]
  },
  {
   "cell_type": "code",
   "execution_count": 31,
   "id": "d42eb1fd",
   "metadata": {},
   "outputs": [
    {
     "data": {
      "text/plain": [
       "-0.28663182258605957"
      ]
     },
     "execution_count": 31,
     "metadata": {},
     "output_type": "execute_result"
    }
   ],
   "source": [
    "#Weight\n",
    "model.linear.weight.item()"
   ]
  },
  {
   "cell_type": "code",
   "execution_count": 32,
   "id": "72e73b6a",
   "metadata": {},
   "outputs": [
    {
     "data": {
      "text/plain": [
       "0.4088090658187866"
      ]
     },
     "execution_count": 32,
     "metadata": {},
     "output_type": "execute_result"
    }
   ],
   "source": [
    "#bias\n",
    "model.linear.bias.item()"
   ]
  },
  {
   "cell_type": "code",
   "execution_count": 33,
   "id": "74c8b918",
   "metadata": {},
   "outputs": [],
   "source": [
    "with torch.no_grad():\n",
    "\n",
    "    pred = model(x[:5])"
   ]
  },
  {
   "cell_type": "code",
   "execution_count": 34,
   "id": "a8bc7cf1",
   "metadata": {},
   "outputs": [
    {
     "name": "stdout",
     "output_type": "stream",
     "text": [
      "First 5 Predictions: tensor([0.2964, 0.3878, 0.4101, 0.4241, 0.4257])\n"
     ]
    }
   ],
   "source": [
    "print(f\"First 5 Predictions: {pred.flatten()}\")"
   ]
  },
  {
   "cell_type": "code",
   "execution_count": 35,
   "id": "37808f64",
   "metadata": {},
   "outputs": [
    {
     "name": "stdout",
     "output_type": "stream",
     "text": [
      "Actual values: tensor([1.5979, 1.1228, 1.0506, 0.8322, 0.8022])\n"
     ]
    }
   ],
   "source": [
    "print(f\"Actual values: {y[:5].flatten()}\")"
   ]
  },
  {
   "cell_type": "code",
   "execution_count": 36,
   "id": "68a3018c",
   "metadata": {},
   "outputs": [],
   "source": [
    "#simple train loop\n",
    "\n",
    "criterion = nn.MSELoss()\n",
    "optimizer = torch.optim.Adam(params=model.parameters(), lr=0.01)"
   ]
  },
  {
   "cell_type": "code",
   "execution_count": 37,
   "id": "651cadb8",
   "metadata": {},
   "outputs": [
    {
     "name": "stdout",
     "output_type": "stream",
     "text": [
      "Epoch 0. Loss; 5.193859100341797\n",
      "Epoch 100. Loss; 1.7127189636230469\n",
      "Epoch 200. Loss; 0.4747384190559387\n",
      "Epoch 300. Loss; 0.10125425457954407\n",
      "Epoch 400. Loss; 0.022306766360998154\n",
      "Epoch 500. Loss; 0.010859253816306591\n",
      "Epoch 600. Loss; 0.009723649360239506\n",
      "Epoch 700. Loss; 0.009646688587963581\n",
      "Epoch 800. Loss; 0.009643157944083214\n",
      "Epoch 900. Loss; 0.009643048979341984\n"
     ]
    }
   ],
   "source": [
    "losses = []\n",
    "\n",
    "for epoch in range(1000):\n",
    "\n",
    "    y_pred = model(x)\n",
    "    loss = criterion(y_pred, y)\n",
    "\n",
    "    #backpass\n",
    "    optimizer.zero_grad()\n",
    "    loss.backward()\n",
    "    optimizer.step()\n",
    "\n",
    "    if epoch % 100 == 0:\n",
    "        losses.append(loss.item())\n",
    "        print(f'Epoch {epoch}. Loss; {loss.item()}')"
   ]
  },
  {
   "cell_type": "code",
   "execution_count": 38,
   "id": "ee1efb74",
   "metadata": {},
   "outputs": [
    {
     "name": "stdout",
     "output_type": "stream",
     "text": [
      "Weight after training: 2.001081705093384\n",
      "Bias after training: 1.0018651485443115\n"
     ]
    }
   ],
   "source": [
    "#now weight should be close to 2 and bias to 1\n",
    "\n",
    "print(f\"Weight after training: {model.linear.weight.item()}\")\n",
    "print(f\"Bias after training: {model.linear.bias.item()}\")"
   ]
  },
  {
   "cell_type": "code",
   "execution_count": null,
   "id": "c87c33bc",
   "metadata": {},
   "outputs": [],
   "source": []
  }
 ],
 "metadata": {
  "kernelspec": {
   "display_name": "myenv (3.10.5)",
   "language": "python",
   "name": "python3"
  },
  "language_info": {
   "codemirror_mode": {
    "name": "ipython",
    "version": 3
   },
   "file_extension": ".py",
   "mimetype": "text/x-python",
   "name": "python",
   "nbconvert_exporter": "python",
   "pygments_lexer": "ipython3",
   "version": "3.10.5"
  }
 },
 "nbformat": 4,
 "nbformat_minor": 5
}
