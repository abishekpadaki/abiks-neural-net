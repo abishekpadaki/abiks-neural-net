{
 "cells": [
  {
   "cell_type": "code",
   "execution_count": 1,
   "id": "4228d47a",
   "metadata": {},
   "outputs": [],
   "source": [
    "import torch"
   ]
  },
  {
   "cell_type": "markdown",
   "id": "9888600c",
   "metadata": {},
   "source": [
    "## Creating tensors"
   ]
  },
  {
   "cell_type": "code",
   "execution_count": 15,
   "id": "389d702a",
   "metadata": {},
   "outputs": [
    {
     "name": "stdout",
     "output_type": "stream",
     "text": [
      "tensor([[0.3789, 0.0825, 0.1836],\n",
      "        [0.5200, 0.9229, 0.3208]], dtype=torch.float16)\n",
      "torch.Size([2, 3])\n"
     ]
    }
   ],
   "source": [
    "x = torch.rand(2,3, dtype=torch.float16) #empty, zeros, rand, randn\n",
    "print(x)\n",
    "print(x.size())"
   ]
  },
  {
   "cell_type": "code",
   "execution_count": 17,
   "id": "868cc188",
   "metadata": {},
   "outputs": [
    {
     "name": "stdout",
     "output_type": "stream",
     "text": [
      "tensor([2.5000, 0.1000])\n"
     ]
    }
   ],
   "source": [
    "#create tensor from python list\n",
    "\n",
    "x = torch.tensor([2.5,0.1])\n",
    "x= print(x)"
   ]
  },
  {
   "cell_type": "markdown",
   "id": "431cc93c",
   "metadata": {},
   "source": [
    "## Simple tensor ops"
   ]
  },
  {
   "cell_type": "code",
   "execution_count": null,
   "id": "8006901d",
   "metadata": {},
   "outputs": [
    {
     "name": "stdout",
     "output_type": "stream",
     "text": [
      "tensor([[0.1479, 0.7279],\n",
      "        [0.6596, 0.1003]]) tensor([[0.2104, 0.9980],\n",
      "        [0.0894, 0.1506]])\n",
      "tensor([[0.3583, 1.7259],\n",
      "        [0.7489, 0.2508]])\n",
      "tensor([[0.3583, 1.7259],\n",
      "        [0.7489, 0.2508]])\n",
      "tensor([[0.3583, 1.7259],\n",
      "        [0.7489, 0.2508]])\n"
     ]
    }
   ],
   "source": [
    "#simple tensor ops\n",
    "\n",
    "x= torch.rand(2,2)\n",
    "y = torch.rand(2,2)\n",
    "\n",
    "print(x,y)\n",
    "\n",
    "add_res = x + y\n",
    "print(add_res)\n",
    "\n",
    "add_res = torch.add(x,y)\n",
    "print(add_res)\n",
    "\n",
    "#in-place add\n",
    "\n",
    "y.add_(x)\n",
    "print(y)"
   ]
  },
  {
   "cell_type": "markdown",
   "id": "aeee5180",
   "metadata": {},
   "source": [
    "In pytorch, any function with trailing underscore (add_) means it does the operation 'in-place'"
   ]
  },
  {
   "cell_type": "markdown",
   "id": "5dbf7ecb",
   "metadata": {},
   "source": [
    "## Slicing Ops"
   ]
  },
  {
   "cell_type": "code",
   "execution_count": 22,
   "id": "ab195a0d",
   "metadata": {},
   "outputs": [
    {
     "name": "stdout",
     "output_type": "stream",
     "text": [
      "tensor([[0.8422, 0.9703, 0.6777],\n",
      "        [0.2605, 0.9652, 0.4723],\n",
      "        [0.4313, 0.7628, 0.9278],\n",
      "        [0.9244, 0.5734, 0.8736],\n",
      "        [0.3428, 0.9730, 0.1763]])\n"
     ]
    }
   ],
   "source": [
    "x = torch.rand(5,3)\n",
    "print(x)"
   ]
  },
  {
   "cell_type": "code",
   "execution_count": null,
   "id": "7174c871",
   "metadata": {},
   "outputs": [
    {
     "name": "stdout",
     "output_type": "stream",
     "text": [
      "tensor([0.8422, 0.2605, 0.4313, 0.9244, 0.3428])\n"
     ]
    }
   ],
   "source": [
    "#slicing\n",
    "print(x[:,0]) #all rows, but only col 0"
   ]
  },
  {
   "cell_type": "code",
   "execution_count": 26,
   "id": "c5576331",
   "metadata": {},
   "outputs": [
    {
     "name": "stdout",
     "output_type": "stream",
     "text": [
      "tensor([0.2605, 0.9652, 0.4723])\n"
     ]
    }
   ],
   "source": [
    "print(x[1,:]) #only second row (1) and all cols"
   ]
  },
  {
   "cell_type": "code",
   "execution_count": null,
   "id": "3c37af55",
   "metadata": {},
   "outputs": [
    {
     "name": "stdout",
     "output_type": "stream",
     "text": [
      "tensor(0.9278)\n"
     ]
    }
   ],
   "source": [
    "print(x[2,2]) #get tensor at 3rd row (2) and 3rd col (2)"
   ]
  },
  {
   "cell_type": "code",
   "execution_count": 29,
   "id": "8603163f",
   "metadata": {},
   "outputs": [
    {
     "name": "stdout",
     "output_type": "stream",
     "text": [
      "0.9277931451797485\n"
     ]
    }
   ],
   "source": [
    "print(x[2,2].item()) #get actual value of tensor at 3rd row (2) and 3rd col (2)\n",
    "\n",
    "# You can use this only if you have one elem in the tensor"
   ]
  },
  {
   "cell_type": "markdown",
   "id": "a75c97f5",
   "metadata": {},
   "source": [
    "## Reshaping tensors"
   ]
  },
  {
   "cell_type": "code",
   "execution_count": 30,
   "id": "5556f9e9",
   "metadata": {},
   "outputs": [
    {
     "name": "stdout",
     "output_type": "stream",
     "text": [
      "tensor([[0.7767, 0.8079, 0.4334, 0.9469],\n",
      "        [0.7093, 0.1610, 0.0986, 0.1724],\n",
      "        [0.7639, 0.9600, 0.7607, 0.8821],\n",
      "        [0.8902, 0.2637, 0.4216, 0.3189]])\n"
     ]
    }
   ],
   "source": [
    "x = torch.rand(4,4)\n",
    "print(x)"
   ]
  },
  {
   "cell_type": "code",
   "execution_count": 33,
   "id": "88ae1374",
   "metadata": {},
   "outputs": [
    {
     "name": "stdout",
     "output_type": "stream",
     "text": [
      "tensor([0.7767, 0.8079, 0.4334, 0.9469, 0.7093, 0.1610, 0.0986, 0.1724, 0.7639,\n",
      "        0.9600, 0.7607, 0.8821, 0.8902, 0.2637, 0.4216, 0.3189])\n"
     ]
    }
   ],
   "source": [
    "y = x.view(16) #1d tensor of 16\n",
    "print(y)"
   ]
  },
  {
   "cell_type": "code",
   "execution_count": 35,
   "id": "dd35ea01",
   "metadata": {},
   "outputs": [
    {
     "name": "stdout",
     "output_type": "stream",
     "text": [
      "tensor([[0.7767, 0.8079, 0.4334, 0.9469, 0.7093, 0.1610, 0.0986, 0.1724],\n",
      "        [0.7639, 0.9600, 0.7607, 0.8821, 0.8902, 0.2637, 0.4216, 0.3189]])\n"
     ]
    }
   ],
   "source": [
    "y = x.view(-1,8) #Using -1 in a dim means you aren't passing any dim value for that dim. Torch automatically computes the right size based on other given dims\n",
    "print(y) # creates a 2*8 tensor"
   ]
  },
  {
   "cell_type": "code",
   "execution_count": 36,
   "id": "afe5c4db",
   "metadata": {},
   "outputs": [
    {
     "data": {
      "text/plain": [
       "torch.Size([2, 8])"
      ]
     },
     "execution_count": 36,
     "metadata": {},
     "output_type": "execute_result"
    }
   ],
   "source": [
    "y.size()"
   ]
  },
  {
   "cell_type": "markdown",
   "id": "ec9e6676",
   "metadata": {},
   "source": [
    "## Convert numpy arrs to torch tensors and vice verse"
   ]
  },
  {
   "cell_type": "code",
   "execution_count": 37,
   "id": "e911be7c",
   "metadata": {},
   "outputs": [],
   "source": [
    "import numpy as np"
   ]
  },
  {
   "cell_type": "code",
   "execution_count": 46,
   "id": "6f20b00a",
   "metadata": {},
   "outputs": [
    {
     "name": "stdout",
     "output_type": "stream",
     "text": [
      "tensor([1., 1., 1., 1., 1.])\n"
     ]
    }
   ],
   "source": [
    " a = torch.ones(5)\n",
    " print(a)"
   ]
  },
  {
   "cell_type": "code",
   "execution_count": 47,
   "id": "17fcf72e",
   "metadata": {},
   "outputs": [
    {
     "name": "stdout",
     "output_type": "stream",
     "text": [
      "[1. 1. 1. 1. 1.]\n",
      "<class 'numpy.ndarray'>\n"
     ]
    }
   ],
   "source": [
    "b = a.numpy() #convert to np\n",
    "print(b)\n",
    "print(type(b))"
   ]
  },
  {
   "cell_type": "markdown",
   "id": "d76ff088",
   "metadata": {},
   "source": [
    "One thing to be careful about is that b now always refer's to a's memory location. So any change to a, will reflect in b (See below)"
   ]
  },
  {
   "cell_type": "code",
   "execution_count": 48,
   "id": "716dd59a",
   "metadata": {},
   "outputs": [
    {
     "name": "stdout",
     "output_type": "stream",
     "text": [
      "tensor([2., 2., 2., 2., 2.])\n",
      "[2. 2. 2. 2. 2.]\n"
     ]
    }
   ],
   "source": [
    "a.add_(1) #adding 1 to all elements of tensor a\n",
    "print(a)\n",
    "print(b) #this will also add all 1s to numpyarr of a which is b"
   ]
  },
  {
   "cell_type": "code",
   "execution_count": 50,
   "id": "dd3b86a5",
   "metadata": {},
   "outputs": [
    {
     "name": "stdout",
     "output_type": "stream",
     "text": [
      "[1. 1. 1. 1. 1.]\n",
      "tensor([1., 1., 1., 1., 1.], dtype=torch.float64)\n"
     ]
    }
   ],
   "source": [
    "#numpy to tensor\n",
    "\n",
    "a = np.ones(5)\n",
    "print(a)\n",
    "b = torch.from_numpy(a)\n",
    "print(b) \n",
    "\n",
    "#similar to before be careful as modifying a will also modify b"
   ]
  },
  {
   "cell_type": "markdown",
   "id": "de771634",
   "metadata": {},
   "source": [
    "## Running torch and storing tensors on GPU (CUDA)"
   ]
  },
  {
   "cell_type": "code",
   "execution_count": 55,
   "id": "a2d66406",
   "metadata": {},
   "outputs": [
    {
     "data": {
      "text/plain": [
       "False"
      ]
     },
     "execution_count": 55,
     "metadata": {},
     "output_type": "execute_result"
    }
   ],
   "source": [
    "torch.cuda.is_available() #check if cuda available"
   ]
  },
  {
   "cell_type": "code",
   "execution_count": 56,
   "id": "dedba0c0",
   "metadata": {},
   "outputs": [],
   "source": [
    "if torch.cuda.is_available():\n",
    "    device = torch.device(\"cuda\") #define the device as cuda\n",
    "    x = torch.ones(5, device=device) #create a tensor x on GPU\n",
    "    y = torch.ones(5) #create on cpu and then move to GPU\n",
    "    y = y.to(device)\n",
    "\n",
    "#Note: you cannot convert to numpy if tensors are on GPU as numpy only works on CPU"
   ]
  },
  {
   "cell_type": "markdown",
   "id": "81c49c9b",
   "metadata": {},
   "source": [
    "## Requires Grad"
   ]
  },
  {
   "cell_type": "markdown",
   "id": "d911b3fd",
   "metadata": {},
   "source": [
    "This tells torch to store the gradient for the variable or tensor, such that later on in ML workflows, it can optimized."
   ]
  },
  {
   "cell_type": "code",
   "execution_count": 58,
   "id": "1eecbc6c",
   "metadata": {},
   "outputs": [
    {
     "name": "stdout",
     "output_type": "stream",
     "text": [
      "tensor([1., 1., 1., 1., 1.], requires_grad=True)\n"
     ]
    }
   ],
   "source": [
    "x = torch.ones(5, requires_grad=True) #requires_grad is False by default\n",
    "print(x)"
   ]
  }
 ],
 "metadata": {
  "kernelspec": {
   "display_name": "myenv (3.10.5)",
   "language": "python",
   "name": "python3"
  },
  "language_info": {
   "codemirror_mode": {
    "name": "ipython",
    "version": 3
   },
   "file_extension": ".py",
   "mimetype": "text/x-python",
   "name": "python",
   "nbconvert_exporter": "python",
   "pygments_lexer": "ipython3",
   "version": "3.10.5"
  }
 },
 "nbformat": 4,
 "nbformat_minor": 5
}
